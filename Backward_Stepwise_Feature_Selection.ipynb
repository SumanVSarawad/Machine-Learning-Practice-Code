{
 "cells": [
  {
   "cell_type": "code",
   "execution_count": 2,
   "id": "unusual-definition",
   "metadata": {},
   "outputs": [],
   "source": [
    "import pandas as pd"
   ]
  },
  {
   "cell_type": "code",
   "execution_count": 3,
   "id": "contained-december",
   "metadata": {},
   "outputs": [],
   "source": [
    "d = pd.read_csv('auto-mpg.csv')"
   ]
  },
  {
   "cell_type": "code",
   "execution_count": 4,
   "id": "resident-flavor",
   "metadata": {},
   "outputs": [],
   "source": [
    "label = 'mpg'\n",
    "features = [column for column in d.columns if column != label]\n",
    "X, y = d[features], d[label]"
   ]
  },
  {
   "cell_type": "markdown",
   "id": "isolated-gathering",
   "metadata": {},
   "source": [
    "# Example with a Linear Regression model"
   ]
  },
  {
   "cell_type": "code",
   "execution_count": 5,
   "id": "lined-server",
   "metadata": {},
   "outputs": [],
   "source": [
    "from sklearn.linear_model import LinearRegression\n",
    "from sklearn.preprocessing import StandardScaler, OneHotEncoder\n",
    "from sklearn.compose import ColumnTransformer\n",
    "from sklearn.pipeline import make_pipeline\n",
    "\n",
    "def get_model(features):\n",
    "    categorical_features = ['origin'] if 'origin' in features else []\n",
    "    numerical_features = [col for col in features if col != 'origin']\n",
    "    \n",
    "    return make_pipeline(\n",
    "        ColumnTransformer(transformers=[\n",
    "            ('categorical', OneHotEncoder(), categorical_features),\n",
    "            ('numerical', StandardScaler(), numerical_features)\n",
    "        ]),\n",
    "        LinearRegression())"
   ]
  },
  {
   "cell_type": "markdown",
   "id": "thorough-spank",
   "metadata": {},
   "source": [
    "## We estimate the MSE of the model via 5-fold CV"
   ]
  },
  {
   "cell_type": "code",
   "execution_count": 6,
   "id": "lasting-canada",
   "metadata": {},
   "outputs": [],
   "source": [
    "from sklearn.model_selection import KFold\n",
    "\n",
    "kfold = KFold(n_splits=5, shuffle=True, random_state=0)"
   ]
  },
  {
   "cell_type": "markdown",
   "id": "numerous-heather",
   "metadata": {},
   "source": [
    "## Variable selection with stepwise backward selection"
   ]
  },
  {
   "cell_type": "code",
   "execution_count": 7,
   "id": "bigger-tooth",
   "metadata": {},
   "outputs": [],
   "source": [
    "from itertools import combinations\n",
    "from sklearn.model_selection import cross_val_score\n",
    "from sklearn.metrics import mean_squared_error\n",
    "import numpy as np\n",
    "\n",
    "class Solution:\n",
    "    features = list()\n",
    "    mse = float('Inf')\n",
    "    \n",
    "    def __init__(self, y, features=None, mse=None):\n",
    "        if features and mse:\n",
    "            self.features = features\n",
    "            self.mse = mse\n",
    "        else:\n",
    "            pred = [y.mean()] * len(y)\n",
    "            self.features = list()\n",
    "            self.mse = mean_squared_error(y, pred)\n",
    "    \n",
    "    def update(self, features, mse):\n",
    "        if mse < self.mse:\n",
    "            self.features = features\n",
    "            self.mse = mse\n",
    "            return True\n",
    "        return False\n",
    "\n",
    "current_features = list(features)\n",
    "best = Solution(\n",
    "    y=y,\n",
    "    features=current_features,\n",
    "    mse=-np.average(\n",
    "        cross_val_score(\n",
    "            estimator=get_model(current_features),\n",
    "            X=X, y=y, cv=kfold,\n",
    "            scoring='neg_mean_squared_error')))\n",
    "\n",
    "while len(current_features) > 0:\n",
    "    removed_feature = None\n",
    "    \n",
    "    for feature in current_features:\n",
    "        new_features = [f for f in current_features if f != feature]\n",
    "        mses = cross_val_score(\n",
    "            estimator=get_model(new_features),\n",
    "            X=X[new_features], y=y, cv=kfold,\n",
    "            scoring='neg_mean_squared_error')\n",
    "        mse = -np.average(mses)\n",
    "        \n",
    "        if best.update(new_features, mse):\n",
    "            removed_feature = feature\n",
    "            \n",
    "    if removed_feature:\n",
    "        current_features.remove(removed_feature)\n",
    "    else:\n",
    "        break"
   ]
  },
  {
   "cell_type": "code",
   "execution_count": 9,
   "id": "afraid-archive",
   "metadata": {},
   "outputs": [
    {
     "name": "stdout",
     "output_type": "stream",
     "text": [
      "Selected features: displacement, hp, weight, year, origin\n"
     ]
    }
   ],
   "source": [
    "print('Selected features: ', end='')\n",
    "print(', '.join(best.features))"
   ]
  }
 ],
 "metadata": {
  "kernelspec": {
   "display_name": "Python 3.9.7 ('ml-class')",
   "language": "python",
   "name": "python3"
  },
  "language_info": {
   "codemirror_mode": {
    "name": "ipython",
    "version": 3
   },
   "file_extension": ".py",
   "mimetype": "text/x-python",
   "name": "python",
   "nbconvert_exporter": "python",
   "pygments_lexer": "ipython3",
   "version": "3.9.7"
  },
  "vscode": {
   "interpreter": {
    "hash": "b1c7c7a7352289b0a3f5d402572f02c8b08767f686743b31a6968026f573c41c"
   }
  }
 },
 "nbformat": 4,
 "nbformat_minor": 5
}
