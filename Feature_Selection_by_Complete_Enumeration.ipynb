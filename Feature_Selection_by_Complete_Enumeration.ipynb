{
 "cells": [
  {
   "cell_type": "code",
   "execution_count": 1,
   "metadata": {},
   "outputs": [],
   "source": [
    "import pandas as pd"
   ]
  },
  {
   "cell_type": "code",
   "execution_count": 2,
   "metadata": {},
   "outputs": [],
   "source": [
    "d = pd.read_csv('auto-mpg.csv')"
   ]
  },
  {
   "cell_type": "code",
   "execution_count": 3,
   "metadata": {},
   "outputs": [],
   "source": [
    "label = 'mpg'\n",
    "features = [column for column in d.columns if column != label]\n",
    "X, y = d[features], d[label]"
   ]
  },
  {
   "cell_type": "markdown",
   "metadata": {},
   "source": [
    "# Example with a Linear Regression model"
   ]
  },
  {
   "cell_type": "code",
   "execution_count": 4,
   "metadata": {},
   "outputs": [],
   "source": [
    "from sklearn.linear_model import LinearRegression\n",
    "from sklearn.preprocessing import StandardScaler\n",
    "from sklearn.pipeline import make_pipeline\n",
    "\n",
    "model = make_pipeline(StandardScaler(), LinearRegression())"
   ]
  },
  {
   "cell_type": "markdown",
   "metadata": {},
   "source": [
    "## We estimate the MSE of the model via 5-fold CV"
   ]
  },
  {
   "cell_type": "code",
   "execution_count": 5,
   "metadata": {},
   "outputs": [],
   "source": [
    "from sklearn.model_selection import KFold\n",
    "\n",
    "kfold = KFold(n_splits=5, shuffle=True, random_state=0)"
   ]
  },
  {
   "cell_type": "markdown",
   "metadata": {},
   "source": [
    "## Variable selection with all possible subsets of features"
   ]
  },
  {
   "cell_type": "code",
   "execution_count": 12,
   "metadata": {},
   "outputs": [],
   "source": [
    "from itertools import combinations\n",
    "from sklearn.model_selection import cross_val_score\n",
    "from sklearn.metrics import mean_squared_error\n",
    "import numpy as np\n",
    "\n",
    "class Solution:\n",
    "    features = list()\n",
    "    mse = float('Inf')\n",
    "    \n",
    "    def __init__(self, y):\n",
    "        pred = [y.mean()] * len(y)\n",
    "        self.mse = mean_squared_error(y, pred)\n",
    "    \n",
    "    def update(self, features, mse):\n",
    "        if mse < self.mse:\n",
    "            self.features = features\n",
    "            self.mse = mse\n",
    "            return True\n",
    "        return False\n",
    "            \n",
    "best = Solution(y)\n",
    "\n",
    "for n_features in range(1, len(features)+1):\n",
    "    subsets = combinations(features, n_features)\n",
    "    \n",
    "    for subset in subsets:\n",
    "        Xr = X[list(subset)]\n",
    "        mses = cross_val_score(estimator=model, X=Xr, y=y, cv=kfold, scoring='neg_mean_squared_error')\n",
    "        mse = -np.average(mses)\n",
    "        best.update(features=subset, mse=mse)"
   ]
  },
  {
   "cell_type": "code",
   "execution_count": 13,
   "metadata": {},
   "outputs": [
    {
     "name": "stdout",
     "output_type": "stream",
     "text": [
      "Selected features: cylinders, displacement, hp, weight, year, origin\n"
     ]
    }
   ],
   "source": [
    "print('Selected features: ', end='')\n",
    "print(', '.join([str(x) for x in best.features]))"
   ]
  }
 ],
 "metadata": {
  "kernelspec": {
   "display_name": "Python 3",
   "language": "python",
   "name": "python3"
  },
  "language_info": {
   "codemirror_mode": {
    "name": "ipython",
    "version": 3
   },
   "file_extension": ".py",
   "mimetype": "text/x-python",
   "name": "python",
   "nbconvert_exporter": "python",
   "pygments_lexer": "ipython3",
   "version": "3.8.5"
  }
 },
 "nbformat": 4,
 "nbformat_minor": 5
}
