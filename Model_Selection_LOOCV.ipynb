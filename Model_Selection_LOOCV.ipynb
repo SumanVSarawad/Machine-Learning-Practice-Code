{
 "cells": [
  {
   "cell_type": "markdown",
   "id": "e7fc5760",
   "metadata": {},
   "source": [
    "## Leave-One-Out Cross-Validation\n",
    "\n",
    "In this notebook we are going to use LOOCV to assess the out-of-sample accuracy of two regression models (linear and quadratic regression).\n",
    "We will use sklearn's `cross_val_score`, which takes care of all the tasks associated with LOOCV:\n",
    "* splitting the dataset,\n",
    "* iterating over all the points to choose a different test point at each iteration,\n",
    "* training the model on the remaining $n-1$ points,\n",
    "* and finally compute the model's error on the left-out point.\n",
    "This function returns an array with all the $n$ test MSEs it computed.\n",
    "To get the final MSE of our model, we average these $n$ values.\n",
    "\n",
    "**Technical note**: As a design decision by sklearn's authors, `cross_val_score` wants a *scoring* function, i.e., a function which is higher when the model performs better and lower when the model performs poorly. The MSE, on the other hand, is a *loss* function: it is low for good models and high for bad models. The simplest way to turn a loss function into a scoring function is to take its negative (multiply by -1). That's why the scoring function is referref to as `neg_mean_squared_error` (*neg* stands for negative)."
   ]
  },
  {
   "cell_type": "code",
   "execution_count": 1,
   "id": "38a0c3a2",
   "metadata": {},
   "outputs": [],
   "source": [
    "import pandas as pd"
   ]
  },
  {
   "cell_type": "code",
   "execution_count": 2,
   "id": "c1aa50cf",
   "metadata": {},
   "outputs": [],
   "source": [
    "d = pd.read_csv('auto-mpg.csv')"
   ]
  },
  {
   "cell_type": "code",
   "execution_count": 3,
   "id": "d08a5119",
   "metadata": {},
   "outputs": [],
   "source": [
    "from sklearn.linear_model import LinearRegression\n",
    "from sklearn.preprocessing import StandardScaler, PolynomialFeatures\n",
    "from sklearn.pipeline import make_pipeline\n",
    "from sklearn.model_selection import LeaveOneOut, cross_val_score\n",
    "import numpy as np"
   ]
  },
  {
   "cell_type": "code",
   "execution_count": 4,
   "id": "060edb26",
   "metadata": {},
   "outputs": [],
   "source": [
    "X = d.drop('mpg', axis=1)\n",
    "y = d.mpg"
   ]
  },
  {
   "cell_type": "markdown",
   "id": "737f76bc",
   "metadata": {},
   "source": [
    "### Creating the two models using sklearn's pipelines"
   ]
  },
  {
   "cell_type": "code",
   "execution_count": 5,
   "id": "69dcbfb3",
   "metadata": {},
   "outputs": [],
   "source": [
    "linear_model = make_pipeline(\n",
    "    StandardScaler(),\n",
    "    LinearRegression()\n",
    ")"
   ]
  },
  {
   "cell_type": "code",
   "execution_count": 6,
   "id": "c871084f",
   "metadata": {},
   "outputs": [],
   "source": [
    "quadratic_model = make_pipeline(\n",
    "    PolynomialFeatures(degree=2),\n",
    "    StandardScaler(),\n",
    "    LinearRegression()\n",
    ")"
   ]
  },
  {
   "cell_type": "markdown",
   "id": "dd7f9021",
   "metadata": {},
   "source": [
    "### Perform LOOCV and average the (negative) scores\n",
    "\n",
    "Note how we use `cv=LeaveOneOut()` to tell `cross_val_score` that we want to use LOOCV as our cross-validation method."
   ]
  },
  {
   "cell_type": "code",
   "execution_count": 7,
   "id": "dbbf8a3d",
   "metadata": {},
   "outputs": [],
   "source": [
    "sol_linear = cross_val_score(\n",
    "    estimator=linear_model,\n",
    "    X=X, y=y,\n",
    "    scoring='neg_mean_squared_error',\n",
    "    cv=LeaveOneOut())"
   ]
  },
  {
   "cell_type": "code",
   "execution_count": 8,
   "id": "068c1771",
   "metadata": {},
   "outputs": [
    {
     "data": {
      "text/plain": [
       "11.371126332686618"
      ]
     },
     "execution_count": 8,
     "metadata": {},
     "output_type": "execute_result"
    }
   ],
   "source": [
    "-1 * np.mean(sol_linear)"
   ]
  },
  {
   "cell_type": "code",
   "execution_count": 9,
   "id": "300c50d3",
   "metadata": {},
   "outputs": [],
   "source": [
    "sol_quadratic = cross_val_score(\n",
    "    estimator=quadratic_model,\n",
    "    X=X, y=y,\n",
    "    scoring='neg_mean_squared_error',\n",
    "    cv=LeaveOneOut())"
   ]
  },
  {
   "cell_type": "code",
   "execution_count": 10,
   "id": "67af1174",
   "metadata": {},
   "outputs": [
    {
     "data": {
      "text/plain": [
       "13.48894067034972"
      ]
     },
     "execution_count": 10,
     "metadata": {},
     "output_type": "execute_result"
    }
   ],
   "source": [
    "-1 * np.mean(sol_quadratic)"
   ]
  },
  {
   "cell_type": "markdown",
   "id": "2dd5f810",
   "metadata": {},
   "source": [
    "It looks like the linear regression model has a lower error: it is the model we will use in production!"
   ]
  },
  {
   "cell_type": "markdown",
   "id": "0590abd2",
   "metadata": {},
   "source": [
    "### Retraining the winner model on the entire dataset"
   ]
  },
  {
   "cell_type": "code",
   "execution_count": 11,
   "id": "105c265b",
   "metadata": {},
   "outputs": [],
   "source": [
    "winner = linear_model.fit(X, y)"
   ]
  }
 ],
 "metadata": {
  "kernelspec": {
   "display_name": "Python 3 (ipykernel)",
   "language": "python",
   "name": "python3"
  },
  "language_info": {
   "codemirror_mode": {
    "name": "ipython",
    "version": 3
   },
   "file_extension": ".py",
   "mimetype": "text/x-python",
   "name": "python",
   "nbconvert_exporter": "python",
   "pygments_lexer": "ipython3",
   "version": "3.9.7"
  }
 },
 "nbformat": 4,
 "nbformat_minor": 5
}
