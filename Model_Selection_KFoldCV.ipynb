{
 "cells": [
  {
   "cell_type": "markdown",
   "id": "5e04cb44",
   "metadata": {},
   "source": [
    "## k-Fold Cross-Validation\n",
    "\n",
    "In this notebook we are going to use 10-Fold cross-validation to assess the out-of-sample accuracy of two regression models (linear and quadratic regression).\n",
    "We will use sklearn's `cross_val_score`, which takes care of all the tasks associated with $k$-fold CV:\n",
    "* splitting the dataset into folds,\n",
    "* iterating over all the folds and choos a different one as the test set at each iteration,\n",
    "* training the model on the remaining $k-1$ folds,\n",
    "* and finally compute the model's error on the left-out fold.\n",
    "This function returns an array with all the $k$ test MSEs it computed.\n",
    "To get the final MSE of our model, we average these $k$ values.\n",
    "\n",
    "**Technical note**: As a design decision by sklearn's authors, `cross_val_score` wants a *scoring* function, i.e., a function which is higher when the model performs better and lower when the model performs poorly. The MSE, on the other hand, is a *loss* function: it is low for good models and high for bad models. The simplest way to turn a loss function into a scoring function is to take its negative (multiply by -1). That's why the scoring function is referred to as `neg_mean_squared_error` (*neg* stands for negative).\n",
    "\n",
    "**Note**: I am going to fix the *random seed* used by `KFold` so that this notebook is reproducible: two people running it should now get the same results."
   ]
  },
  {
   "cell_type": "code",
   "execution_count": 1,
   "id": "38a0c3a2",
   "metadata": {},
   "outputs": [],
   "source": [
    "import pandas as pd"
   ]
  },
  {
   "cell_type": "code",
   "execution_count": 2,
   "id": "c1aa50cf",
   "metadata": {},
   "outputs": [],
   "source": [
    "d = pd.read_csv('auto-mpg.csv')"
   ]
  },
  {
   "cell_type": "code",
   "execution_count": 3,
   "id": "d08a5119",
   "metadata": {},
   "outputs": [],
   "source": [
    "from sklearn.linear_model import LinearRegression\n",
    "from sklearn.preprocessing import StandardScaler, PolynomialFeatures\n",
    "from sklearn.pipeline import make_pipeline\n",
    "from sklearn.model_selection import KFold, cross_val_score\n",
    "import numpy as np"
   ]
  },
  {
   "cell_type": "code",
   "execution_count": 4,
   "id": "060edb26",
   "metadata": {},
   "outputs": [],
   "source": [
    "X = d.drop('mpg', axis=1)\n",
    "y = d.mpg"
   ]
  },
  {
   "cell_type": "markdown",
   "id": "7f20d70c",
   "metadata": {},
   "source": [
    "### Creating the two models using sklearn's pipelines"
   ]
  },
  {
   "cell_type": "code",
   "execution_count": 5,
   "id": "69dcbfb3",
   "metadata": {},
   "outputs": [],
   "source": [
    "linear_model = make_pipeline(\n",
    "    StandardScaler(),\n",
    "    LinearRegression()\n",
    ")"
   ]
  },
  {
   "cell_type": "code",
   "execution_count": 6,
   "id": "c871084f",
   "metadata": {},
   "outputs": [],
   "source": [
    "quadratic_model = make_pipeline(\n",
    "    PolynomialFeatures(degree=2),\n",
    "    StandardScaler(),\n",
    "    LinearRegression()\n",
    ")"
   ]
  },
  {
   "cell_type": "markdown",
   "id": "90359405",
   "metadata": {},
   "source": [
    "### Perform k-Fold CV and average the (negative) scores\n",
    "\n",
    "Note how we use `cv=KFold()` to tell `cross_val_score` that we want to use $k$-Fold CV as our cross-validation method.\n",
    "We pass the `n_splits=10` parameter (i.e., we do **10**-fold CV) and `shuffle=True` to make sure we shuffle rows before creating folds."
   ]
  },
  {
   "cell_type": "code",
   "execution_count": 7,
   "id": "dbbf8a3d",
   "metadata": {},
   "outputs": [],
   "source": [
    "# Using random_state=0 to make the notebook reproducible\n",
    "sol_linear = cross_val_score(\n",
    "    estimator=linear_model,\n",
    "    X=X, y=y,\n",
    "    scoring='neg_mean_squared_error',\n",
    "    cv=KFold(n_splits=10, shuffle=True, random_state=0))"
   ]
  },
  {
   "cell_type": "code",
   "execution_count": 8,
   "id": "068c1771",
   "metadata": {},
   "outputs": [
    {
     "data": {
      "text/plain": [
       "11.507884923299752"
      ]
     },
     "execution_count": 8,
     "metadata": {},
     "output_type": "execute_result"
    }
   ],
   "source": [
    "-1 * np.mean(sol_linear)"
   ]
  },
  {
   "cell_type": "code",
   "execution_count": 9,
   "id": "300c50d3",
   "metadata": {},
   "outputs": [],
   "source": [
    "# Using random_state=0 to make the notebook reproducible\n",
    "sol_quadratic = cross_val_score(\n",
    "    estimator=quadratic_model,\n",
    "    X=X, y=y,\n",
    "    scoring='neg_mean_squared_error',\n",
    "    cv=KFold(n_splits=10, shuffle=True, random_state=0))"
   ]
  },
  {
   "cell_type": "code",
   "execution_count": 10,
   "id": "67af1174",
   "metadata": {},
   "outputs": [
    {
     "data": {
      "text/plain": [
       "12.737040297390678"
      ]
     },
     "execution_count": 10,
     "metadata": {},
     "output_type": "execute_result"
    }
   ],
   "source": [
    "-1 * np.mean(sol_quadratic)"
   ]
  },
  {
   "cell_type": "markdown",
   "id": "512a8d9b",
   "metadata": {},
   "source": [
    "It looks like the linear regression model has a lower error: it is the model we will use in production!"
   ]
  },
  {
   "cell_type": "code",
   "execution_count": 11,
   "id": "105c265b",
   "metadata": {},
   "outputs": [],
   "source": [
    "winner = linear_model.fit(X, y)"
   ]
  }
 ],
 "metadata": {
  "kernelspec": {
   "display_name": "Python 3.10.8 64-bit",
   "language": "python",
   "name": "python3"
  },
  "language_info": {
   "codemirror_mode": {
    "name": "ipython",
    "version": 3
   },
   "file_extension": ".py",
   "mimetype": "text/x-python",
   "name": "python",
   "nbconvert_exporter": "python",
   "pygments_lexer": "ipython3",
   "version": "3.10.8"
  },
  "vscode": {
   "interpreter": {
    "hash": "767d51c1340bd893661ea55ea3124f6de3c7a262a8b4abca0554b478b1e2ff90"
   }
  }
 },
 "nbformat": 4,
 "nbformat_minor": 5
}
