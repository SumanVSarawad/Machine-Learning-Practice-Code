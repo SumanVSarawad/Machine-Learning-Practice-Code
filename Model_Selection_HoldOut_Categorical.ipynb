{
 "cells": [
  {
   "cell_type": "markdown",
   "id": "e3236c9c",
   "metadata": {},
   "source": [
    "## The hold-out validation method\n",
    "\n",
    "We split the data-set into training and test data, using `train_test_split`.\n",
    "We then train two models (linear regression and quadratic regression) on the training data and assess their quality on the test data.\n",
    "The model showing the lower error on the test data will be our \"winner\".\n",
    "In the end, we re-train the winner model on the entire dataset and we are ready to use it in production.\n",
    "\n",
    "To simulate what would happen in production, I create an extra data-point (not originally in the `auto-mpg.csv` dataset) and see what our model predicts.\n",
    "This extra point refers to the Seat Marbella car.\n",
    "\n",
    "**Difference with the HoldOut notebook**: in this notebook we treat the \"origin\" column as categorical.\n",
    "Therefore, we will apply 1-hot-encoding to it.\n",
    "Because we do not want to standardise nor to take polynomial features of 0-1 columns, we now have to split our preprocessing pipeline:\n",
    "* Categorical column \"origin\" only gets 1-hot encoded.\n",
    "* All other columns, which are numeric, get the standard treatment: polynomial features (in the case of the quadratic model) and standardisation.\n",
    "\n",
    "To achieve this result we use pandas' `ColumnTransformer`, which allows us to apply different preprocessing steps to different columns.\n",
    "\n",
    "**Note**: I am going to fix the *random seed* used by `train_test_split` so that this notebook is reproducible: two people running it should get the same results."
   ]
  },
  {
   "cell_type": "code",
   "execution_count": 1,
   "id": "38a0c3a2",
   "metadata": {},
   "outputs": [],
   "source": [
    "import pandas as pd"
   ]
  },
  {
   "cell_type": "code",
   "execution_count": 2,
   "id": "c1aa50cf",
   "metadata": {},
   "outputs": [],
   "source": [
    "d = pd.read_csv('auto-mpg.csv')\n",
    "d.origin.replace({1: 'america', 2: 'europe', 3: 'japan'})\n",
    "d.origin = pd.Categorical(d.origin)"
   ]
  },
  {
   "cell_type": "code",
   "execution_count": 3,
   "id": "ea8d5afb",
   "metadata": {},
   "outputs": [],
   "source": [
    "from sklearn.linear_model import LinearRegression\n",
    "from sklearn.preprocessing import StandardScaler, PolynomialFeatures, OneHotEncoder\n",
    "from sklearn.pipeline import make_pipeline\n",
    "from sklearn.compose import ColumnTransformer\n",
    "from sklearn.model_selection import train_test_split\n",
    "from sklearn.metrics import mean_squared_error"
   ]
  },
  {
   "cell_type": "code",
   "execution_count": 4,
   "id": "eb0524f2",
   "metadata": {},
   "outputs": [],
   "source": [
    "X = d.drop('mpg', axis=1)\n",
    "y = d.mpg"
   ]
  },
  {
   "cell_type": "markdown",
   "id": "3f5c1a34",
   "metadata": {},
   "source": [
    "### Splitting the dataset into training and test sets"
   ]
  },
  {
   "cell_type": "code",
   "execution_count": 5,
   "id": "75213665",
   "metadata": {},
   "outputs": [],
   "source": [
    "# Using random_state=0 to make the notebook reproducible\n",
    "X_train, X_test, y_train, y_test = train_test_split(\n",
    "    X, y, test_size=0.2, random_state=0)"
   ]
  },
  {
   "cell_type": "markdown",
   "id": "9f1b5c54",
   "metadata": {},
   "source": [
    "### Creating the two models using sklearn's pipelines"
   ]
  },
  {
   "cell_type": "code",
   "execution_count": 6,
   "id": "6df2324f",
   "metadata": {},
   "outputs": [],
   "source": [
    "categorical_columns = [\n",
    "    col for col in X.columns if d[col].dtype == 'category']\n",
    "numerical_columns = [\n",
    "    col for col in X.columns if col not in categorical_columns]"
   ]
  },
  {
   "cell_type": "code",
   "execution_count": 7,
   "id": "435453f8",
   "metadata": {},
   "outputs": [],
   "source": [
    "linear_preprocessing = ColumnTransformer(transformers=[\n",
    "    ('categorical', OneHotEncoder(), categorical_columns),\n",
    "    ('numerical', StandardScaler(), numerical_columns)\n",
    "])\n",
    "\n",
    "linear_model = make_pipeline(\n",
    "    linear_preprocessing,\n",
    "    LinearRegression()\n",
    ")"
   ]
  },
  {
   "cell_type": "code",
   "execution_count": 8,
   "id": "7cdfeaae",
   "metadata": {},
   "outputs": [],
   "source": [
    "quadratic_preprocessing = ColumnTransformer(transformers=[\n",
    "    ('categorical', OneHotEncoder(), categorical_columns),\n",
    "    ('numerical',\n",
    "     make_pipeline(PolynomialFeatures(degree=2), StandardScaler()),\n",
    "     numerical_columns)\n",
    "])\n",
    "\n",
    "quadratic_model = make_pipeline(\n",
    "    quadratic_preprocessing,\n",
    "    LinearRegression()\n",
    ")"
   ]
  },
  {
   "cell_type": "markdown",
   "id": "74aa6fef",
   "metadata": {},
   "source": [
    "### Training on the training set"
   ]
  },
  {
   "cell_type": "code",
   "execution_count": 9,
   "id": "404257de",
   "metadata": {},
   "outputs": [
    {
     "data": {
      "text/plain": [
       "Pipeline(steps=[('columntransformer',\n",
       "                 ColumnTransformer(transformers=[('categorical',\n",
       "                                                  OneHotEncoder(), ['origin']),\n",
       "                                                 ('numerical', StandardScaler(),\n",
       "                                                  ['cylinders', 'displacement',\n",
       "                                                   'hp', 'weight',\n",
       "                                                   'acceleration', 'year'])])),\n",
       "                ('linearregression', LinearRegression())])"
      ]
     },
     "execution_count": 9,
     "metadata": {},
     "output_type": "execute_result"
    }
   ],
   "source": [
    "linear_model.fit(X_train, y_train)"
   ]
  },
  {
   "cell_type": "code",
   "execution_count": 10,
   "id": "f6b24b75",
   "metadata": {},
   "outputs": [
    {
     "data": {
      "text/plain": [
       "Pipeline(steps=[('columntransformer',\n",
       "                 ColumnTransformer(transformers=[('categorical',\n",
       "                                                  OneHotEncoder(), ['origin']),\n",
       "                                                 ('numerical',\n",
       "                                                  Pipeline(steps=[('polynomialfeatures',\n",
       "                                                                   PolynomialFeatures()),\n",
       "                                                                  ('standardscaler',\n",
       "                                                                   StandardScaler())]),\n",
       "                                                  ['cylinders', 'displacement',\n",
       "                                                   'hp', 'weight',\n",
       "                                                   'acceleration', 'year'])])),\n",
       "                ('linearregression', LinearRegression())])"
      ]
     },
     "execution_count": 10,
     "metadata": {},
     "output_type": "execute_result"
    }
   ],
   "source": [
    "quadratic_model.fit(X_train, y_train)"
   ]
  },
  {
   "cell_type": "markdown",
   "id": "625dd1da",
   "metadata": {},
   "source": [
    "### Getting predictions on the test set"
   ]
  },
  {
   "cell_type": "code",
   "execution_count": 11,
   "id": "e3e65dec",
   "metadata": {},
   "outputs": [],
   "source": [
    "linear_yhat = linear_model.predict(X_test)"
   ]
  },
  {
   "cell_type": "code",
   "execution_count": 12,
   "id": "e0edb417",
   "metadata": {},
   "outputs": [],
   "source": [
    "quadratic_yhat = quadratic_model.predict(X_test)"
   ]
  },
  {
   "cell_type": "markdown",
   "id": "148c4d95",
   "metadata": {},
   "source": [
    "### Estimating the MSE of the models on the test set"
   ]
  },
  {
   "cell_type": "code",
   "execution_count": 13,
   "id": "d1764236",
   "metadata": {},
   "outputs": [
    {
     "data": {
      "text/plain": [
       "10.022424640636537"
      ]
     },
     "execution_count": 13,
     "metadata": {},
     "output_type": "execute_result"
    }
   ],
   "source": [
    "mean_squared_error(y_test, linear_yhat)"
   ]
  },
  {
   "cell_type": "code",
   "execution_count": 14,
   "id": "a30d436f",
   "metadata": {},
   "outputs": [
    {
     "data": {
      "text/plain": [
       "6.357424643443906"
      ]
     },
     "execution_count": 14,
     "metadata": {},
     "output_type": "execute_result"
    }
   ],
   "source": [
    "mean_squared_error(y_test, quadratic_yhat)"
   ]
  },
  {
   "cell_type": "markdown",
   "id": "81235346",
   "metadata": {},
   "source": [
    "It looks like the quadratic regression model has a lower error: it is the model we will use in production!"
   ]
  },
  {
   "cell_type": "markdown",
   "id": "339c0ee5",
   "metadata": {},
   "source": [
    "### Retraining the winner model on the entire data-set"
   ]
  },
  {
   "cell_type": "code",
   "execution_count": 15,
   "id": "80451466",
   "metadata": {},
   "outputs": [],
   "source": [
    "winner = quadratic_model.fit(X, y)"
   ]
  },
  {
   "cell_type": "markdown",
   "id": "38ed17a2",
   "metadata": {},
   "source": [
    "## Example of using the model in production"
   ]
  },
  {
   "cell_type": "code",
   "execution_count": 16,
   "id": "4cc789e3",
   "metadata": {},
   "outputs": [],
   "source": [
    "seat_marbella = pd.DataFrame({\n",
    "    'cylinders': [4],\n",
    "    'displacement': [899 * 0.061],\n",
    "    'hp': [41],\n",
    "    'weight': [680 * 2.20],\n",
    "    'acceleration': [19.2],\n",
    "    'year': [83],\n",
    "    'origin': [2]\n",
    "})\n",
    "seat_marbella_lkm = 5.1 # Litres per 100 km\n",
    "seat_marbella_mpg = (100 * 3.78) / (1.61 * seat_marbella_lkm) # litres/km => miles/gallon"
   ]
  },
  {
   "cell_type": "code",
   "execution_count": 17,
   "id": "def7f901",
   "metadata": {},
   "outputs": [],
   "source": [
    "predicted_seat_marbella_mpg = winner.predict(seat_marbella)"
   ]
  },
  {
   "cell_type": "code",
   "execution_count": 18,
   "id": "2f129182",
   "metadata": {},
   "outputs": [
    {
     "name": "stdout",
     "output_type": "stream",
     "text": [
      "Real value: 46.036, Predicted value: 47.583\n"
     ]
    }
   ],
   "source": [
    "print(f\"Real value: {seat_marbella_mpg:.3f}, \"\n",
    "      f\"Predicted value: {predicted_seat_marbella_mpg[0]:.3f}\")"
   ]
  }
 ],
 "metadata": {
  "kernelspec": {
   "display_name": "Python 3 (ipykernel)",
   "language": "python",
   "name": "python3"
  },
  "language_info": {
   "codemirror_mode": {
    "name": "ipython",
    "version": 3
   },
   "file_extension": ".py",
   "mimetype": "text/x-python",
   "name": "python",
   "nbconvert_exporter": "python",
   "pygments_lexer": "ipython3",
   "version": "3.9.7"
  }
 },
 "nbformat": 4,
 "nbformat_minor": 5
}
